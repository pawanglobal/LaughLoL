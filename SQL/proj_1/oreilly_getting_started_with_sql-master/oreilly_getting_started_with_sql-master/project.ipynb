{
 "cells": [
  {
   "cell_type": "code",
   "execution_count": 1,
   "metadata": {},
   "outputs": [
    {
     "name": "stdout",
     "output_type": "stream",
     "text": [
      "PRODUCT\n",
      "sqlite_sequence\n",
      "CUSTOMER\n",
      "CUSTOMER_ORDER\n"
     ]
    }
   ],
   "source": [
    "import sqlite3\n",
    "\n",
    "# Connect to the database\n",
    "db = sqlite3.connect('rexon_metals.db')\n",
    "\n",
    "# Create a cursor object\n",
    "cursor = db.cursor()\n",
    "\n",
    "# Execute a query to get the count of tables\n",
    "cursor.execute(\"SELECT count(*) FROM sqlite_master WHERE type='table'\")\n",
    "count = cursor.fetchone()[0]\n",
    "\n",
    "# If there are tables, print their names\n",
    "if count > 0:\n",
    "    # Execute a query to get the names of all tables in the database\n",
    "    cursor.execute(\"SELECT name FROM sqlite_master WHERE type='table'\")\n",
    "\n",
    "    # Fetch all the table names\n",
    "    tables = cursor.fetchall()\n",
    "\n",
    "    # Print the table names\n",
    "    for table in tables:\n",
    "        print(table[0])\n",
    "else:\n",
    "    print(\"No tables found in the database.\")\n",
    "\n",
    "# Close the cursor and connection\n",
    "cursor.close()\n",
    "db.close()\n"
   ]
  },
  {
   "cell_type": "code",
   "execution_count": null,
   "metadata": {},
   "outputs": [],
   "source": []
  }
 ],
 "metadata": {
  "kernelspec": {
   "display_name": "Python 3",
   "language": "python",
   "name": "python3"
  },
  "language_info": {
   "codemirror_mode": {
    "name": "ipython",
    "version": 3
   },
   "file_extension": ".py",
   "mimetype": "text/x-python",
   "name": "python",
   "nbconvert_exporter": "python",
   "pygments_lexer": "ipython3",
   "version": "3.11.4"
  }
 },
 "nbformat": 4,
 "nbformat_minor": 2
}
