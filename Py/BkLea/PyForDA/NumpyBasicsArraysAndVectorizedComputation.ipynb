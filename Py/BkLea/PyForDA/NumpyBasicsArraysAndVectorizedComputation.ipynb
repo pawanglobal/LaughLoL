{
 "cells": [
  {
   "cell_type": "code",
   "execution_count": 1,
   "id": "66b2ee7e-3f4f-4c7b-a41f-218e1eef841a",
   "metadata": {},
   "outputs": [],
   "source": [
    "#Numpy = Numerical Python"
   ]
  },
  {
   "cell_type": "code",
   "execution_count": 6,
   "id": "83c21f29-e503-4562-8457-4d1c1440469b",
   "metadata": {},
   "outputs": [],
   "source": [
    "import numpy as np"
   ]
  },
  {
   "cell_type": "code",
   "execution_count": 9,
   "id": "bedde5dc-d666-4427-b7c5-230aeabc70b2",
   "metadata": {},
   "outputs": [],
   "source": [
    "my_arr = np.arange(10000)"
   ]
  },
  {
   "cell_type": "code",
   "execution_count": 10,
   "id": "2c967015-53f7-4012-b852-d8084e3f477a",
   "metadata": {},
   "outputs": [],
   "source": [
    "my_list = list(range(100000))"
   ]
  },
  {
   "cell_type": "code",
   "execution_count": 11,
   "id": "c19530bc-6b56-4518-8d40-40cbf5d03ed9",
   "metadata": {},
   "outputs": [
    {
     "name": "stdout",
     "output_type": "stream",
     "text": [
      "CPU times: total: 0 ns\n",
      "Wall time: 999 µs\n"
     ]
    }
   ],
   "source": [
    "%time for _ in range(10): my_arr2 = my_arr*2"
   ]
  },
  {
   "cell_type": "code",
   "execution_count": 12,
   "id": "3616fbb1-04f0-4d07-afae-c8995dce4038",
   "metadata": {},
   "outputs": [
    {
     "name": "stdout",
     "output_type": "stream",
     "text": [
      "CPU times: total: 78.1 ms\n",
      "Wall time: 119 ms\n"
     ]
    }
   ],
   "source": [
    "%time for _ in range(10): my_list2 = [x*2 for x in my_list]"
   ]
  },
  {
   "cell_type": "code",
   "execution_count": 13,
   "id": "f0fc9d88-1de2-4821-a409-122aa072fbc2",
   "metadata": {},
   "outputs": [],
   "source": [
    "#The NumPy ndarray: A Multidimensional Array Object"
   ]
  },
  {
   "cell_type": "code",
   "execution_count": 14,
   "id": "42eea927-42d7-4e88-bc97-f94360569d82",
   "metadata": {},
   "outputs": [
    {
     "name": "stdout",
     "output_type": "stream",
     "text": [
      "[   0    1    2 ... 9997 9998 9999]\n"
     ]
    }
   ],
   "source": [
    "print(my_arr)"
   ]
  },
  {
   "cell_type": "code",
   "execution_count": null,
   "id": "5dd6db17-89cc-4a7b-8cde-2a5fb80c6c93",
   "metadata": {},
   "outputs": [],
   "source": []
  }
 ],
 "metadata": {
  "kernelspec": {
   "display_name": "Python 3 (ipykernel)",
   "language": "python",
   "name": "python3"
  },
  "language_info": {
   "codemirror_mode": {
    "name": "ipython",
    "version": 3
   },
   "file_extension": ".py",
   "mimetype": "text/x-python",
   "name": "python",
   "nbconvert_exporter": "python",
   "pygments_lexer": "ipython3",
   "version": "3.12.3"
  }
 },
 "nbformat": 4,
 "nbformat_minor": 5
}
